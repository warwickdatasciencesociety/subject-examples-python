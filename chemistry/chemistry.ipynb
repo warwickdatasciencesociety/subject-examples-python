{
 "cells": [
  {
   "cell_type": "markdown",
   "metadata": {},
   "source": [
    "# Molecular Similarity"
   ]
  },
  {
   "cell_type": "markdown",
   "metadata": {},
   "source": [
    "<a href=\"https://colab.research.google.com/github/warwickdatascience/subject-examples/blob/master/python/chemistry/chemistry.ipynb\" target=\"_parent\"><img src=\"https://colab.research.google.com/assets/colab-badge.svg\" alt=\"Open In Colab\"/></a>"
   ]
  },
  {
   "cell_type": "markdown",
   "metadata": {},
   "source": [
    "## Introduction"
   ]
  },
  {
   "cell_type": "markdown",
   "metadata": {},
   "source": [
    "### Problem Statement"
   ]
  },
  {
   "cell_type": "markdown",
   "metadata": {},
   "source": [
    "Drug development is costly and time-consuming, with a high failure rate. We therefore want to be able to virtually screen molecules to find those that have a high probability of having desirable properties. One simple approach is to start from a target molecule and search through a large database of molecules to find those that have a high degree of chemical similarity. Specifically, we can take a database of molucular [SMILES strings](https://en.wikipedia.org/wiki/Simplified_molecular-input_line-entry_system) (a text representation of a molucule's structure), encode these into a practical representation of the molecule known as a fingerprint, and search for close matches using a similarity metric. This allows us to screen thousands of molecules with little, to then direct the attention of chemists to promising candidates."
   ]
  },
  {
   "cell_type": "markdown",
   "metadata": {},
   "source": [
    "### Resources"
   ]
  },
  {
   "cell_type": "markdown",
   "metadata": {},
   "source": [
    "Our database of SMILES was taken from [ChEMBL](https://www.ebi.ac.uk/chembl/g/#search_results/compounds/state=eyJsaXN0c19zdGF0ZXMiOnsiQ09NUE9VTkQiOnsic2V0dGluZ3NfcGF0aCI6IkVTX0lOREVYRVMuQ09NUE9VTkQiLCJjdXN0b21fcXVlcnkiOiIqIiwidXNlX2N1c3RvbV9xdWVyeSI6ZmFsc2V9fX0%3D). This provides far too many features, resulting in an incredibly large download. We therefore created a preprocessing script `process_raw_data.py` which takes the entire database and reduces it to around 40,000 name-SMILES pairs which can be found in `smiles.csv`."
   ]
  },
  {
   "cell_type": "markdown",
   "metadata": {},
   "source": [
    "### Non-course Techniques"
   ]
  },
  {
   "cell_type": "markdown",
   "metadata": {},
   "source": [
    "We will take advantage of a package called `rdkit`, a power set of tools for computational chemistry. We also use the package `tqdm` to provide a progress bar for our search."
   ]
  },
  {
   "cell_type": "markdown",
   "metadata": {},
   "source": [
    "## Setup"
   ]
  },
  {
   "cell_type": "markdown",
   "metadata": {},
   "source": [
    "Google Colab does not come with `rdkit` pre-installed. Instead we install it in the following cell only when running this notebook on Colab. **This will take some time** so please be patient."
   ]
  },
  {
   "cell_type": "code",
   "execution_count": 16,
   "metadata": {},
   "outputs": [],
   "source": [
    "%%capture\n",
    "if 'google.colab' in str(get_ipython()):\n",
    "    !wget -c https://repo.continuum.io/miniconda/Miniconda3-py37_4.8.3-Linux-x86_64.sh\n",
    "    !chmod +x Miniconda3-py37_4.8.3-Linux-x86_64.sh\n",
    "    !bash ./Miniconda3-py37_4.8.3-Linux-x86_64.sh -b -f -p /usr/local\n",
    "    !conda install -q -y -c conda-forge rdkit\n",
    "\n",
    "    import sys\n",
    "    sys.path.append('/usr/local/lib/python3.7/site-packages/')"
   ]
  },
  {
   "cell_type": "markdown",
   "metadata": {},
   "source": [
    "We begin by importing any relevant modules and setting the logging parameters for `rdkit`."
   ]
  },
  {
   "cell_type": "code",
   "execution_count": 17,
   "metadata": {},
   "outputs": [],
   "source": [
    "from rdkit import Chem, DataStructs, RDLogger\n",
    "from rdkit.Chem import AllChem, Draw\n",
    "from tqdm.notebook import tqdm"
   ]
  },
  {
   "cell_type": "code",
   "execution_count": 18,
   "metadata": {},
   "outputs": [],
   "source": [
    "# Ignore warnings\n",
    "RDLogger.DisableLog('rdApp.*') "
   ]
  },
  {
   "cell_type": "markdown",
   "metadata": {},
   "source": [
    "## Import"
   ]
  },
  {
   "cell_type": "markdown",
   "metadata": {},
   "source": [
    "We start by reading the pre-processed data into a list of lines."
   ]
  },
  {
   "cell_type": "code",
   "execution_count": 19,
   "metadata": {},
   "outputs": [
    {
     "name": "stdout",
     "output_type": "stream",
     "text": [
      "Name\tSmiles\n"
     ]
    }
   ],
   "source": [
    "with open('smiles.csv') as f:\n",
    "    lines = f.read().split('\\n')\n",
    "    print(lines[0])\n",
    "    # Remove header and empty final line\n",
    "    del lines[0]\n",
    "    del lines[-1]"
   ]
  },
  {
   "cell_type": "markdown",
   "metadata": {},
   "source": [
    "We can then loop through these lines to extract the molecule names and SMILESs"
   ]
  },
  {
   "cell_type": "code",
   "execution_count": 20,
   "metadata": {},
   "outputs": [],
   "source": [
    "molecules = []\n",
    "for l in lines:\n",
    "    elements = l.split('\\t')\n",
    "    molecules.append({\n",
    "        'name': elements[0],\n",
    "        'smiles': elements[1]\n",
    "    })"
   ]
  },
  {
   "cell_type": "markdown",
   "metadata": {},
   "source": [
    "## Search"
   ]
  },
  {
   "cell_type": "markdown",
   "metadata": {},
   "source": [
    "We write a function to take a query SMILES string and search through the database for the closest match. To do this, we have to convert the SMILES to an `rdkit` molucule using `Chem.MolFromSmiles` and then calculate a molucular fingerprint using `Chem.RDKFingerprint`. We can then find the similarity of two fingerprints with `DataStructs.FingerprintSimilarity`."
   ]
  },
  {
   "cell_type": "code",
   "execution_count": 21,
   "metadata": {},
   "outputs": [],
   "source": [
    "def most_similar(query_smiles):\n",
    "    max_similarity = 0\n",
    "    # Transforming the input variable into the necessary format\n",
    "    query_fp = Chem.RDKFingerprint(Chem.MolFromSmiles(query_smiles))\n",
    "    # Loop for finding maximum similarity\n",
    "    for test_mol in tqdm(molecules, desc='Searching database'):\n",
    "        # Transformating each encountered variable into the necessary format\n",
    "        test_fp = Chem.RDKFingerprint(Chem.MolFromSmiles(test_mol['smiles']))\n",
    "        similarity = DataStructs.FingerprintSimilarity(test_fp, query_fp)\n",
    "        # Similarity has to be lower than 1 to avoid just finding the input variable in the dataset\n",
    "        if max_similarity < similarity < 1:\n",
    "            max_similarity = similarity\n",
    "            best_mol = test_mol\n",
    "    return best_mol"
   ]
  },
  {
   "cell_type": "markdown",
   "metadata": {},
   "source": [
    "We can now ask the user for a SMILES string to query and search for the best match."
   ]
  },
  {
   "cell_type": "code",
   "execution_count": 22,
   "metadata": {},
   "outputs": [
    {
     "name": "stdin",
     "output_type": "stream",
     "text": [
      "Input a valid SMILES string:\n",
      " OC[C@H]1OC(O)[C@H](O)[C@@H](O)[C@@H]1O\n"
     ]
    }
   ],
   "source": [
    "# E.g. 'OC[C@H]1OC(O)[C@H](O)[C@@H](O)[C@@H]1O' for glucose\n",
    "query_smiles = input(\"Input a valid SMILES string:\\n\")"
   ]
  },
  {
   "cell_type": "code",
   "execution_count": 23,
   "metadata": {},
   "outputs": [
    {
     "data": {
      "application/vnd.jupyter.widget-view+json": {
       "model_id": "dcaa386717fe42cdb1bbb3638961a93d",
       "version_major": 2,
       "version_minor": 0
      },
      "text/plain": [
       "HBox(children=(FloatProgress(value=0.0, description='Searching database', max=39912.0, style=ProgressStyle(des…"
      ]
     },
     "metadata": {},
     "output_type": "display_data"
    },
    {
     "name": "stdout",
     "output_type": "stream",
     "text": [
      "\n"
     ]
    }
   ],
   "source": [
    "best_mol = most_similar(query_smiles)"
   ]
  },
  {
   "cell_type": "code",
   "execution_count": 24,
   "metadata": {},
   "outputs": [
    {
     "name": "stdout",
     "output_type": "stream",
     "text": [
      "The best match was:\n",
      "L-Fucose\n",
      "C[C@@H]1OC(O)[C@@H](O)[C@H](O)[C@@H]1O\n"
     ]
    }
   ],
   "source": [
    "print(\"The best match was:\")\n",
    "print(best_mol['name'])\n",
    "print(best_mol['smiles'])"
   ]
  },
  {
   "cell_type": "markdown",
   "metadata": {},
   "source": [
    "## Visualisation"
   ]
  },
  {
   "cell_type": "markdown",
   "metadata": {},
   "source": [
    "Finally, we can visualise the query and best match molecules."
   ]
  },
  {
   "cell_type": "code",
   "execution_count": 25,
   "metadata": {},
   "outputs": [],
   "source": [
    "query_m = Chem.MolFromSmiles(query_smiles)\n",
    "match_m = Chem.MolFromSmiles(best_mol['smiles'])"
   ]
  },
  {
   "cell_type": "code",
   "execution_count": 27,
   "metadata": {},
   "outputs": [
    {
     "data": {
      "image/png": "[encoded data removed]",
      "text/plain": [
       "<PIL.PngImagePlugin.PngImageFile image mode=RGB size=600x300 at 0x7FE0DD32FD90>"
      ]
     },
     "execution_count": 27,
     "metadata": {},
     "output_type": "execute_result"
    }
   ],
   "source": [
    "Draw.MolsToGridImage(\n",
    "    (query_m, match_m),\n",
    "    legends = ('Query', 'Best Match'),\n",
    "    molsPerRow=2, subImgSize=(300, 300)\n",
    ")"
   ]
  }
 ],
 "metadata": {
  "kernelspec": {
   "display_name": "Python 3",
   "language": "python",
   "name": "python3"
  },
  "language_info": {
   "codemirror_mode": {
    "name": "ipython",
    "version": 3
   },
   "file_extension": ".py",
   "mimetype": "text/x-python",
   "name": "python",
   "nbconvert_exporter": "python",
   "pygments_lexer": "ipython3",
   "version": "3.8.5"
  }
 },
 "nbformat": 4,
 "nbformat_minor": 4
}
